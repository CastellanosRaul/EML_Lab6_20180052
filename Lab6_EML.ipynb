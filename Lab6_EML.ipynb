{
 "cells": [
  {
   "cell_type": "markdown",
   "id": "ef3ccf70",
   "metadata": {},
   "source": [
    "# Lab 6 Regresion Logistica\n",
    "## Raul Castellanos 20180052"
   ]
  },
  {
   "cell_type": "code",
   "execution_count": 12,
   "id": "580943f4",
   "metadata": {},
   "outputs": [],
   "source": [
    "import pandas as pd \n",
    "import numpy as np \n",
    "import matplotlib.pyplot as plt"
   ]
  },
  {
   "cell_type": "markdown",
   "id": "465158c1",
   "metadata": {},
   "source": [
    "### Data"
   ]
  },
  {
   "cell_type": "code",
   "execution_count": 17,
   "id": "433085f5",
   "metadata": {},
   "outputs": [
    {
     "data": {
      "text/html": [
       "<div>\n",
       "<style scoped>\n",
       "    .dataframe tbody tr th:only-of-type {\n",
       "        vertical-align: middle;\n",
       "    }\n",
       "\n",
       "    .dataframe tbody tr th {\n",
       "        vertical-align: top;\n",
       "    }\n",
       "\n",
       "    .dataframe thead th {\n",
       "        text-align: right;\n",
       "    }\n",
       "</style>\n",
       "<table border=\"1\" class=\"dataframe\">\n",
       "  <thead>\n",
       "    <tr style=\"text-align: right;\">\n",
       "      <th></th>\n",
       "      <th>label</th>\n",
       "      <th>Alcohol</th>\n",
       "      <th>Malic Acid</th>\n",
       "      <th>Ash</th>\n",
       "      <th>Alcalinity of Ash</th>\n",
       "      <th>Magnesium</th>\n",
       "      <th>Total Phenols</th>\n",
       "      <th>Flavanoids</th>\n",
       "      <th>Notflavanoid Phenol</th>\n",
       "      <th>Proanthocyanins</th>\n",
       "      <th>Color intensity</th>\n",
       "      <th>Hue</th>\n",
       "      <th>OD280/OD315 diluted wines</th>\n",
       "      <th>Proline</th>\n",
       "      <th>Ones</th>\n",
       "    </tr>\n",
       "  </thead>\n",
       "  <tbody>\n",
       "    <tr>\n",
       "      <th>0</th>\n",
       "      <td>1</td>\n",
       "      <td>14.23</td>\n",
       "      <td>1.71</td>\n",
       "      <td>2.43</td>\n",
       "      <td>15.6</td>\n",
       "      <td>127</td>\n",
       "      <td>2.80</td>\n",
       "      <td>3.06</td>\n",
       "      <td>0.28</td>\n",
       "      <td>2.29</td>\n",
       "      <td>5.64</td>\n",
       "      <td>1.04</td>\n",
       "      <td>3.92</td>\n",
       "      <td>1065</td>\n",
       "      <td>1</td>\n",
       "    </tr>\n",
       "    <tr>\n",
       "      <th>1</th>\n",
       "      <td>1</td>\n",
       "      <td>13.20</td>\n",
       "      <td>1.78</td>\n",
       "      <td>2.14</td>\n",
       "      <td>11.2</td>\n",
       "      <td>100</td>\n",
       "      <td>2.65</td>\n",
       "      <td>2.76</td>\n",
       "      <td>0.26</td>\n",
       "      <td>1.28</td>\n",
       "      <td>4.38</td>\n",
       "      <td>1.05</td>\n",
       "      <td>3.40</td>\n",
       "      <td>1050</td>\n",
       "      <td>1</td>\n",
       "    </tr>\n",
       "    <tr>\n",
       "      <th>2</th>\n",
       "      <td>1</td>\n",
       "      <td>13.16</td>\n",
       "      <td>2.36</td>\n",
       "      <td>2.67</td>\n",
       "      <td>18.6</td>\n",
       "      <td>101</td>\n",
       "      <td>2.80</td>\n",
       "      <td>3.24</td>\n",
       "      <td>0.30</td>\n",
       "      <td>2.81</td>\n",
       "      <td>5.68</td>\n",
       "      <td>1.03</td>\n",
       "      <td>3.17</td>\n",
       "      <td>1185</td>\n",
       "      <td>1</td>\n",
       "    </tr>\n",
       "    <tr>\n",
       "      <th>3</th>\n",
       "      <td>1</td>\n",
       "      <td>14.37</td>\n",
       "      <td>1.95</td>\n",
       "      <td>2.50</td>\n",
       "      <td>16.8</td>\n",
       "      <td>113</td>\n",
       "      <td>3.85</td>\n",
       "      <td>3.49</td>\n",
       "      <td>0.24</td>\n",
       "      <td>2.18</td>\n",
       "      <td>7.80</td>\n",
       "      <td>0.86</td>\n",
       "      <td>3.45</td>\n",
       "      <td>1480</td>\n",
       "      <td>1</td>\n",
       "    </tr>\n",
       "    <tr>\n",
       "      <th>4</th>\n",
       "      <td>1</td>\n",
       "      <td>13.24</td>\n",
       "      <td>2.59</td>\n",
       "      <td>2.87</td>\n",
       "      <td>21.0</td>\n",
       "      <td>118</td>\n",
       "      <td>2.80</td>\n",
       "      <td>2.69</td>\n",
       "      <td>0.39</td>\n",
       "      <td>1.82</td>\n",
       "      <td>4.32</td>\n",
       "      <td>1.04</td>\n",
       "      <td>2.93</td>\n",
       "      <td>735</td>\n",
       "      <td>1</td>\n",
       "    </tr>\n",
       "  </tbody>\n",
       "</table>\n",
       "</div>"
      ],
      "text/plain": [
       "   label  Alcohol  Malic Acid   Ash  Alcalinity of Ash  Magnesium  \\\n",
       "0      1    14.23        1.71  2.43               15.6        127   \n",
       "1      1    13.20        1.78  2.14               11.2        100   \n",
       "2      1    13.16        2.36  2.67               18.6        101   \n",
       "3      1    14.37        1.95  2.50               16.8        113   \n",
       "4      1    13.24        2.59  2.87               21.0        118   \n",
       "\n",
       "   Total Phenols  Flavanoids  Notflavanoid Phenol  Proanthocyanins  \\\n",
       "0           2.80        3.06                 0.28             2.29   \n",
       "1           2.65        2.76                 0.26             1.28   \n",
       "2           2.80        3.24                 0.30             2.81   \n",
       "3           3.85        3.49                 0.24             2.18   \n",
       "4           2.80        2.69                 0.39             1.82   \n",
       "\n",
       "   Color intensity   Hue  OD280/OD315 diluted wines  Proline  Ones  \n",
       "0             5.64  1.04                       3.92     1065     1  \n",
       "1             4.38  1.05                       3.40     1050     1  \n",
       "2             5.68  1.03                       3.17     1185     1  \n",
       "3             7.80  0.86                       3.45     1480     1  \n",
       "4             4.32  1.04                       2.93      735     1  "
      ]
     },
     "execution_count": 17,
     "metadata": {},
     "output_type": "execute_result"
    }
   ],
   "source": [
    "df = pd.read_csv(\"wine_data.csv\", names = ['label', 'Alcohol', 'Malic Acid', 'Ash', 'Alcalinity of Ash', 'Magnesium', 'Total Phenols', 'Flavanoids', 'Notflavanoid Phenol','Proanthocyanins', 'Color intensity', 'Hue', 'OD280/OD315 diluted wines', 'Proline'])\n",
    "df.columns = ['label', 'Alcohol', 'Malic Acid', 'Ash', 'Alcalinity of Ash', 'Magnesium', 'Total Phenols', 'Flavanoids', 'Notflavanoid Phenol',\n",
    "             'Proanthocyanins', 'Color intensity', 'Hue', 'OD280/OD315 diluted wines', 'Proline']\n",
    "df['Ones'] = 1\n",
    "df.head()"
   ]
  },
  {
   "cell_type": "code",
   "execution_count": 18,
   "id": "17bf3064",
   "metadata": {},
   "outputs": [
    {
     "data": {
      "text/plain": [
       "(178, 15)"
      ]
     },
     "execution_count": 18,
     "metadata": {},
     "output_type": "execute_result"
    }
   ],
   "source": [
    "df.shape"
   ]
  },
  {
   "cell_type": "markdown",
   "id": "8bf80cf6",
   "metadata": {},
   "source": [
    "### Array"
   ]
  },
  {
   "cell_type": "markdown",
   "id": "59f6b743",
   "metadata": {},
   "source": [
    "### Creando 3 dataframes ya que hay 3 tipos en \"Label\""
   ]
  },
  {
   "cell_type": "code",
   "execution_count": 24,
   "id": "258769f7",
   "metadata": {},
   "outputs": [],
   "source": [
    "dfl1 = df.replace({'label' : {1:1, 2:0, 3:0}})\n",
    "dfl2 = df.replace({'label' : {1:0, 2:1, 3:0}})\n",
    "dfl3 = df.replace({'label' : {1:0, 2:0, 3:1}})"
   ]
  },
  {
   "cell_type": "code",
   "execution_count": 25,
   "id": "849c6bb8",
   "metadata": {},
   "outputs": [],
   "source": [
    "# X Y label = 1\n",
    "X1 = dfl1.drop('label', axis = 1)\n",
    "y1 = dfl1['label']"
   ]
  },
  {
   "cell_type": "code",
   "execution_count": 26,
   "id": "df50497c",
   "metadata": {},
   "outputs": [],
   "source": [
    "# X Y label = 2\n",
    "X2 = dfl2.drop('label', axis = 1)\n",
    "y2 = dfl2['label']"
   ]
  },
  {
   "cell_type": "code",
   "execution_count": 27,
   "id": "d9511e48",
   "metadata": {},
   "outputs": [],
   "source": [
    "# X Y label = 3\n",
    "X3 = dfl3.drop('label', axis = 1)\n",
    "y3 = dfl3['label']"
   ]
  },
  {
   "cell_type": "markdown",
   "id": "2805bc0e",
   "metadata": {},
   "source": [
    "### Estandarizacion X"
   ]
  },
  {
   "cell_type": "code",
   "execution_count": 29,
   "id": "186b45ba",
   "metadata": {},
   "outputs": [],
   "source": [
    "from sklearn.preprocessing import StandardScaler\n",
    "sc = StandardScaler()"
   ]
  },
  {
   "cell_type": "code",
   "execution_count": 31,
   "id": "ad456b68",
   "metadata": {},
   "outputs": [
    {
     "name": "stdout",
     "output_type": "stream",
     "text": [
      "           0         1         2         3         4         5         6   \\\n",
      "0    1.518613 -0.562250  0.232053 -1.169593  1.913905  0.808997  1.034819   \n",
      "1    0.246290 -0.499413 -0.827996 -2.490847  0.018145  0.568648  0.733629   \n",
      "2    0.196879  0.021231  1.109334 -0.268738  0.088358  0.808997  1.215533   \n",
      "3    1.691550 -0.346811  0.487926 -0.809251  0.930918  2.491446  1.466525   \n",
      "4    0.295700  0.227694  1.840403  0.451946  1.281985  0.808997  0.663351   \n",
      "..        ...       ...       ...       ...       ...       ...       ...   \n",
      "173  0.876275  2.974543  0.305159  0.301803 -0.332922 -0.985614 -1.424900   \n",
      "174  0.493343  1.412609  0.414820  1.052516  0.158572 -0.793334 -1.284344   \n",
      "175  0.332758  1.744744 -0.389355  0.151661  1.422412 -1.129824 -1.344582   \n",
      "176  0.209232  0.227694  0.012732  0.151661  1.422412 -1.033684 -1.354622   \n",
      "177  1.395086  1.583165  1.365208  1.502943 -0.262708 -0.392751 -1.274305   \n",
      "\n",
      "           7         8         9         10        11        12   13  \n",
      "0   -0.659563  1.224884  0.251717  0.362177  1.847920  1.013009  0.0  \n",
      "1   -0.820719 -0.544721 -0.293321  0.406051  1.113449  0.965242  0.0  \n",
      "2   -0.498407  2.135968  0.269020  0.318304  0.788587  1.395148  0.0  \n",
      "3   -0.981875  1.032155  1.186068 -0.427544  1.184071  2.334574  0.0  \n",
      "4    0.226796  0.401404 -0.319276  0.362177  0.449601 -0.037874  0.0  \n",
      "..        ...       ...       ...       ...       ...       ...  ...  \n",
      "173  1.274310 -0.930179  1.142811 -1.392758 -1.231206 -0.021952  0.0  \n",
      "174  0.549108 -0.316950  0.969783 -1.129518 -1.485445  0.009893  0.0  \n",
      "175  0.549108 -0.422075  2.224236 -1.612125 -1.485445  0.280575  0.0  \n",
      "176  1.354888 -0.229346  1.834923 -1.568252 -1.400699  0.296498  0.0  \n",
      "177  1.596623 -0.422075  1.791666 -1.524378 -1.428948 -0.595160  0.0  \n",
      "\n",
      "[178 rows x 14 columns]\n"
     ]
    }
   ],
   "source": [
    "X1SC = sc.fit_transform(X1)\n",
    "X2SC = sc.fit_transform(X1)\n",
    "X3SC = sc.fit_transform(X1)\n",
    "\n",
    "XL1 = pd.DataFrame(X1SC)\n",
    "XL2 = pd.DataFrame(X2SC)\n",
    "XL3 = pd.DataFrame(X3SC)\n",
    "\n",
    "print(XL1)"
   ]
  },
  {
   "cell_type": "code",
   "execution_count": 32,
   "id": "0799f40a",
   "metadata": {},
   "outputs": [
    {
     "name": "stdout",
     "output_type": "stream",
     "text": [
      "           0         1         2         3         4         5         6   \\\n",
      "0    1.518613 -0.562250  0.232053 -1.169593  1.913905  0.808997  1.034819   \n",
      "1    0.246290 -0.499413 -0.827996 -2.490847  0.018145  0.568648  0.733629   \n",
      "2    0.196879  0.021231  1.109334 -0.268738  0.088358  0.808997  1.215533   \n",
      "3    1.691550 -0.346811  0.487926 -0.809251  0.930918  2.491446  1.466525   \n",
      "4    0.295700  0.227694  1.840403  0.451946  1.281985  0.808997  0.663351   \n",
      "..        ...       ...       ...       ...       ...       ...       ...   \n",
      "173  0.876275  2.974543  0.305159  0.301803 -0.332922 -0.985614 -1.424900   \n",
      "174  0.493343  1.412609  0.414820  1.052516  0.158572 -0.793334 -1.284344   \n",
      "175  0.332758  1.744744 -0.389355  0.151661  1.422412 -1.129824 -1.344582   \n",
      "176  0.209232  0.227694  0.012732  0.151661  1.422412 -1.033684 -1.354622   \n",
      "177  1.395086  1.583165  1.365208  1.502943 -0.262708 -0.392751 -1.274305   \n",
      "\n",
      "           7         8         9         10        11        12   13  \n",
      "0   -0.659563  1.224884  0.251717  0.362177  1.847920  1.013009  0.0  \n",
      "1   -0.820719 -0.544721 -0.293321  0.406051  1.113449  0.965242  0.0  \n",
      "2   -0.498407  2.135968  0.269020  0.318304  0.788587  1.395148  0.0  \n",
      "3   -0.981875  1.032155  1.186068 -0.427544  1.184071  2.334574  0.0  \n",
      "4    0.226796  0.401404 -0.319276  0.362177  0.449601 -0.037874  0.0  \n",
      "..        ...       ...       ...       ...       ...       ...  ...  \n",
      "173  1.274310 -0.930179  1.142811 -1.392758 -1.231206 -0.021952  0.0  \n",
      "174  0.549108 -0.316950  0.969783 -1.129518 -1.485445  0.009893  0.0  \n",
      "175  0.549108 -0.422075  2.224236 -1.612125 -1.485445  0.280575  0.0  \n",
      "176  1.354888 -0.229346  1.834923 -1.568252 -1.400699  0.296498  0.0  \n",
      "177  1.596623 -0.422075  1.791666 -1.524378 -1.428948 -0.595160  0.0  \n",
      "\n",
      "[178 rows x 14 columns]\n"
     ]
    }
   ],
   "source": [
    "print(XL2)"
   ]
  },
  {
   "cell_type": "code",
   "execution_count": 33,
   "id": "df9605ef",
   "metadata": {},
   "outputs": [
    {
     "name": "stdout",
     "output_type": "stream",
     "text": [
      "           0         1         2         3         4         5         6   \\\n",
      "0    1.518613 -0.562250  0.232053 -1.169593  1.913905  0.808997  1.034819   \n",
      "1    0.246290 -0.499413 -0.827996 -2.490847  0.018145  0.568648  0.733629   \n",
      "2    0.196879  0.021231  1.109334 -0.268738  0.088358  0.808997  1.215533   \n",
      "3    1.691550 -0.346811  0.487926 -0.809251  0.930918  2.491446  1.466525   \n",
      "4    0.295700  0.227694  1.840403  0.451946  1.281985  0.808997  0.663351   \n",
      "..        ...       ...       ...       ...       ...       ...       ...   \n",
      "173  0.876275  2.974543  0.305159  0.301803 -0.332922 -0.985614 -1.424900   \n",
      "174  0.493343  1.412609  0.414820  1.052516  0.158572 -0.793334 -1.284344   \n",
      "175  0.332758  1.744744 -0.389355  0.151661  1.422412 -1.129824 -1.344582   \n",
      "176  0.209232  0.227694  0.012732  0.151661  1.422412 -1.033684 -1.354622   \n",
      "177  1.395086  1.583165  1.365208  1.502943 -0.262708 -0.392751 -1.274305   \n",
      "\n",
      "           7         8         9         10        11        12   13  \n",
      "0   -0.659563  1.224884  0.251717  0.362177  1.847920  1.013009  0.0  \n",
      "1   -0.820719 -0.544721 -0.293321  0.406051  1.113449  0.965242  0.0  \n",
      "2   -0.498407  2.135968  0.269020  0.318304  0.788587  1.395148  0.0  \n",
      "3   -0.981875  1.032155  1.186068 -0.427544  1.184071  2.334574  0.0  \n",
      "4    0.226796  0.401404 -0.319276  0.362177  0.449601 -0.037874  0.0  \n",
      "..        ...       ...       ...       ...       ...       ...  ...  \n",
      "173  1.274310 -0.930179  1.142811 -1.392758 -1.231206 -0.021952  0.0  \n",
      "174  0.549108 -0.316950  0.969783 -1.129518 -1.485445  0.009893  0.0  \n",
      "175  0.549108 -0.422075  2.224236 -1.612125 -1.485445  0.280575  0.0  \n",
      "176  1.354888 -0.229346  1.834923 -1.568252 -1.400699  0.296498  0.0  \n",
      "177  1.596623 -0.422075  1.791666 -1.524378 -1.428948 -0.595160  0.0  \n",
      "\n",
      "[178 rows x 14 columns]\n"
     ]
    }
   ],
   "source": [
    "print(XL3)"
   ]
  },
  {
   "cell_type": "markdown",
   "id": "7d731afd",
   "metadata": {},
   "source": [
    "### Funciones"
   ]
  },
  {
   "cell_type": "code",
   "execution_count": 54,
   "id": "3459d460",
   "metadata": {},
   "outputs": [],
   "source": [
    "def hypothesis(X, theta):\n",
    "    z = np.dot(theta, X.T)\n",
    "    return 1/(1+np.exp(-(z))) - 0.0000001\n",
    "\n",
    "def cost(X, y, theta):\n",
    "    y1 = hypothesis(X, theta)\n",
    "    return -(1/len(X)) * np.sum(y*np.log(y1) + (1-y)*np.log(1-y1))\n",
    "\n",
    "def gradient_descent(X, y, theta, learning_rate, max_iter):\n",
    "    m =len(X)\n",
    "    J = [cost(X, y, theta)] \n",
    "    for i in range(0, max_iter):\n",
    "        h = hypothesis(X, theta)\n",
    "        for i in range(0, len(X)):\n",
    "            theta = theta - (learning_rate * cost(X, y, theta))\n",
    "        J.append(cost(X, y, theta))\n",
    "    return J, theta"
   ]
  },
  {
   "cell_type": "markdown",
   "id": "dc6f63bf",
   "metadata": {},
   "source": [
    "### Label 1 "
   ]
  },
  {
   "cell_type": "code",
   "execution_count": 55,
   "id": "34f22a29",
   "metadata": {},
   "outputs": [],
   "source": [
    "XA1 = np.array(XL1)\n",
    "YA1 = np.array(y1)\n",
    "\n",
    "m1, n1 = XA1.shape\n",
    "theta_1 = np.random.rand(n1, 1).T"
   ]
  },
  {
   "cell_type": "code",
   "execution_count": 56,
   "id": "f57a8f25",
   "metadata": {},
   "outputs": [],
   "source": [
    "from sklearn.model_selection import train_test_split\n",
    "X_train1, X_test1, y_train1, y_test1 = train_test_split(XA1, YA1, test_size=0.3, random_state=100)"
   ]
  },
  {
   "cell_type": "code",
   "execution_count": 57,
   "id": "bbf13ca8",
   "metadata": {},
   "outputs": [],
   "source": [
    "costo1, theta1 = gradient_descent(X_train1, y_train1, theta_1, learning_rate = 0.00001, max_iter = 1000)"
   ]
  },
  {
   "cell_type": "markdown",
   "id": "799603f6",
   "metadata": {},
   "source": [
    "### Label 2"
   ]
  },
  {
   "cell_type": "code",
   "execution_count": 58,
   "id": "9e63dbe6",
   "metadata": {},
   "outputs": [],
   "source": [
    "XA2 = np.array(XL2)\n",
    "YA2 = np.array(y2)\n",
    "\n",
    "m2, n2 = XA2.shape\n",
    "theta_2 = np.random.rand(n2, 1).T"
   ]
  },
  {
   "cell_type": "code",
   "execution_count": 59,
   "id": "aa41bffa",
   "metadata": {},
   "outputs": [],
   "source": [
    "from sklearn.model_selection import train_test_split\n",
    "X_train2, X_test2, y_train2, y_test2 = train_test_split(XA2, YA2, test_size=0.3, random_state=100)"
   ]
  },
  {
   "cell_type": "code",
   "execution_count": 60,
   "id": "cbb49d57",
   "metadata": {},
   "outputs": [],
   "source": [
    "costo2, theta2 = gradient_descent(X_train2, y_train2, theta_2, learning_rate = 0.000001, max_iter = 1000)"
   ]
  },
  {
   "cell_type": "markdown",
   "id": "46330d01",
   "metadata": {},
   "source": [
    "### Label 3"
   ]
  },
  {
   "cell_type": "code",
   "execution_count": 61,
   "id": "adb88ac8",
   "metadata": {},
   "outputs": [],
   "source": [
    "XA3 = np.array(XL3)\n",
    "YA3 = np.array(y3)\n",
    "\n",
    "m3, n3 = XA3.shape\n",
    "theta_3 = np.random.rand(n3, 1).T"
   ]
  },
  {
   "cell_type": "code",
   "execution_count": 62,
   "id": "be412751",
   "metadata": {},
   "outputs": [],
   "source": [
    "from sklearn.model_selection import train_test_split\n",
    "X_train3, X_test3, y_train3, y_test3 = train_test_split(XA3, YA3, test_size=0.3, random_state=100)"
   ]
  },
  {
   "cell_type": "code",
   "execution_count": 63,
   "id": "5f9a14ac",
   "metadata": {},
   "outputs": [],
   "source": [
    "costo3, theta3 = gradient_descent(X_train3, y_train3, theta_3, learning_rate = 0.00001, max_iter = 1000)"
   ]
  },
  {
   "cell_type": "markdown",
   "id": "84f86db0",
   "metadata": {},
   "source": [
    "### Costos "
   ]
  },
  {
   "cell_type": "code",
   "execution_count": 65,
   "id": "ebbbfc2c",
   "metadata": {},
   "outputs": [
    {
     "name": "stdout",
     "output_type": "stream",
     "text": [
      "Costo Label 1 mas bajo: 0.4783908463409588\n",
      "Costo Label 2 mas bajo: 1.2462301443609471\n",
      "Costo Label 3 mas bajo: 0.6835744449822044\n"
     ]
    }
   ],
   "source": [
    "print(\"Costo Label 1 mas bajo:\", min(costo1))\n",
    "print(\"Costo Label 2 mas bajo:\", min(costo2))\n",
    "print(\"Costo Label 3 mas bajo:\", min(costo3))"
   ]
  },
  {
   "cell_type": "code",
   "execution_count": null,
   "id": "3e73b51c",
   "metadata": {},
   "outputs": [],
   "source": []
  }
 ],
 "metadata": {
  "kernelspec": {
   "display_name": "venvL6",
   "language": "python",
   "name": "venvl6"
  },
  "language_info": {
   "codemirror_mode": {
    "name": "ipython",
    "version": 3
   },
   "file_extension": ".py",
   "mimetype": "text/x-python",
   "name": "python",
   "nbconvert_exporter": "python",
   "pygments_lexer": "ipython3",
   "version": "3.9.1"
  }
 },
 "nbformat": 4,
 "nbformat_minor": 5
}
